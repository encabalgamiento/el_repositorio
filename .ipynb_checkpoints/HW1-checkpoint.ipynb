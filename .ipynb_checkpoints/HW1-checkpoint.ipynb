{
 "cells": [
  {
   "cell_type": "code",
   "execution_count": 2,
   "metadata": {},
   "outputs": [
    {
     "name": "stdout",
     "output_type": "stream",
     "text": [
      "Введите число от 1 до 9: 5\n",
      "   _~_       _~_       _~_       _~_       _~_    \n",
      "  (o o)     (o o)     (o o)     (o o)     (o o)   \n",
      " /  V  \\   /  V  \\   /  V  \\   /  V  \\   /  V  \\  \n",
      "/(  _  )\\ /(  _  )\\ /(  _  )\\ /(  _  )\\ /(  _  )\\ \n",
      "  ^^ ^^     ^^ ^^     ^^ ^^     ^^ ^^     ^^ ^^   \n"
     ]
    }
   ],
   "source": [
    "#Задание 1\n",
    "\n",
    "uno = \"   _~_    \"\n",
    "dos = \"  (o o)   \"\n",
    "tres = \" /  V  \\  \"\n",
    "cuatro = \"/(  _  )\\ \"\n",
    "cinco = \"  ^^ ^^   \"\n",
    "\n",
    "number = input(\"Введите число от 1 до 9: \")\n",
    "number = int(number)\n",
    "\n",
    "if number in range(1,9):\n",
    "    print(number*uno)\n",
    "    print(number*dos)\n",
    "    print(number*tres)\n",
    "    print(number*cuatro)\n",
    "    print(number*cinco)\n",
    "else:\n",
    "    print(\"Неверный формат!\")\n"
   ]
  },
  {
   "cell_type": "code",
   "execution_count": 3,
   "metadata": {},
   "outputs": [
    {
     "name": "stdout",
     "output_type": "stream",
     "text": [
      "Количество слов: 5.\n",
      "Количество символов: 35.\n"
     ]
    }
   ],
   "source": [
    "#Задание 2\n",
    "\n",
    "linea = \"Все морские раковины очень красивы!\"\n",
    "print(\"Количество слов: \" + str(len(linea.split())) + \".\")\n",
    "print(\"Количество символов: \" + str(len(linea)) + \".\")\n"
   ]
  },
  {
   "cell_type": "code",
   "execution_count": 4,
   "metadata": {},
   "outputs": [
    {
     "name": "stdout",
     "output_type": "stream",
     "text": [
      "p\n",
      "u\n",
      "super\n",
      "supercalifragilisticexpialidocio\n",
      "s p r a i r g l s i e p a i o i u\n",
      "u e c l f a i i t c x i l d c o s\n",
      "s u o i c o d i l a i p x e c i t s i l i g a r f i l a c r e p u s\n",
      "s o c d l i x c t i i a f l c e u\n",
      "34\n"
     ]
    }
   ],
   "source": [
    "#Задание 3\n",
    "\n",
    "frase = \"supercalifragilisticexpialidocious\"\n",
    "\n",
    "pares = []\n",
    "impares = []\n",
    "for number in range(len(frase)):\n",
    "\tif number % 2 == 0:\n",
    "\t\tpares.append(frase[number])\n",
    "\telse:\n",
    "\t\timpares.append(frase[number])\n",
    "\n",
    "#Сначала выведите третий символ этой строки.\n",
    "print(frase[2])\n",
    "\n",
    "#Во второй строке выведите предпоследний символ этой строки.\n",
    "print(frase[-2])\n",
    "\n",
    "#В третьей строке выведите первые пять символов этой строки.\n",
    "print(frase[:5])\n",
    "\n",
    "#В четвертой строке выведите всю строку, кроме последних двух символов.\n",
    "print(frase[:-2])\n",
    "\n",
    "#В пятой строке выведите все символы с четными индексами \n",
    "print(*pares)\n",
    "\n",
    "#В шестой строке выведите все символы с нечетными индексами, то есть начиная со второго символа строки.\n",
    "print(*impares)\n",
    "\n",
    "#В седьмой строке выведите все символы в обратном порядке.\n",
    "print(*reversed(frase))\n",
    "\n",
    "#В восьмой строке выведите все символы строки через один в обратном порядке, начиная с последнего.\n",
    "print(*reversed(impares))\n",
    "\n",
    "#В девятой строке выведите длину данной строки.\n",
    "print(len(frase))\n",
    "\n"
   ]
  },
  {
   "cell_type": "code",
   "execution_count": 5,
   "metadata": {},
   "outputs": [
    {
     "name": "stdout",
     "output_type": "stream",
     "text": [
      "Введите ваше слово: светаатевс\n",
      "YES\n"
     ]
    }
   ],
   "source": [
    "# Задание 4 \n",
    "\n",
    "work = True \n",
    "\n",
    "palabra = input(\"Введите ваше слово: \")\n",
    "\n",
    "chislo = round(int(len(palabra)) / 2) \n",
    "\n",
    "for number in range(1, chislo+1):\n",
    "    if palabra[number-1] != palabra[-number]:\n",
    "        print(\"NO\")\n",
    "        work = False\n",
    "        break\n",
    "\n",
    "if work == True:\n",
    "    print(\"YES\")"
   ]
  },
  {
   "cell_type": "code",
   "execution_count": 7,
   "metadata": {},
   "outputs": [
    {
     "name": "stdout",
     "output_type": "stream",
     "text": [
      "Пожалуйста, введите слово, которое вы ищете: пространство\n",
      "Слово 'пространство' встречается в тексте 2 раза\n"
     ]
    }
   ],
   "source": [
    "#Задание 5\n",
    "\n",
    "text = \"законы физики рядом с черной дырой уже не работают в том представлении в котором мы привыкли \\nпространство время искривляется и все события протекают уже совсем по другому \\nсловно пылесос черная дыра поглощает все что находится около нее планеты астероиды свет и прочее \\nранее считалось что черная дыра ничего не излучает но как доказал стивен хокинг черная дыра излучает антивещество \\nто есть поедает вещество и выделяет антивещество \\nранее думали что если кинуть в черную дыру человека то ему труба порвет на субатомы \\nно как оказалось по некоторым уравнениям есть определенные траектории путешествия сквозь черную дыру чтоб чувствовать себя нормально \\nправда не ясно что будет за ней другой мир или ничего \\nобласть вокруг черной дыры которая интересна называется горизонтом событий \\nесли туда полететь не зная волшебное уравнение то будет конечно не очень \\nнаблюдатель будет видеть как космический корабль влетает в горизонт событий и крайне медленно потом отдаляется пока не застынет в центре\\nу самого же космонавта дела будут идти совсем по другому \\nискривленное пространство будет лепить из него как из пластилина различные формы пока наконец не разорвет все на субатомы \\nно для внешнего наблюдателя космонавт навсегда останется улыбающимся и махающим в иллюминатор застывшим изображением\"\n",
    "\n",
    "slova = text.split()\n",
    "\n",
    "request = input(\"Пожалуйста, введите слово, которое вы ищете: \")\n",
    "\n",
    "if request.lower() not in slova:\n",
    "    slova.append(request)\n",
    "    print(\"Слово '\" + request + \"' добавлено!\")\n",
    "else:\n",
    "    if text.count(request) == 2 or (text.count(request) == 3 or text.count(request) == 4):\n",
    "        print(\"Слово '\" + request + \"' встречается в тексте \" + str(text.count(request)) + \" раза\")\n",
    "    else: \n",
    "        print(\"Слово '\" + request + \"' встречается в тексте \" + str(text.count(request)) + \" раз\")"
   ]
  }
 ],
 "metadata": {
  "kernelspec": {
   "display_name": "Python 3",
   "language": "python",
   "name": "python3"
  },
  "language_info": {
   "codemirror_mode": {
    "name": "ipython",
    "version": 3
   },
   "file_extension": ".py",
   "mimetype": "text/x-python",
   "name": "python",
   "nbconvert_exporter": "python",
   "pygments_lexer": "ipython3",
   "version": "3.7.0"
  }
 },
 "nbformat": 4,
 "nbformat_minor": 2
}
